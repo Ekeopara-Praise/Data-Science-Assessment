{
 "cells": [
  {
   "cell_type": "markdown",
   "metadata": {},
   "source": [
    "# DATA SCIENCE ENGINEERING ASSESSEMENT SOLUTION\n",
    "\n",
    "## SECTION A (Data Ingestation and API Communication) - Python\n",
    "In this section, I levaraged on the Request HTTP library which helped me to send HTTP requests and recieve data using the json method. "
   ]
  },
  {
   "cell_type": "markdown",
   "metadata": {},
   "source": [
    "The link to the package can be downloaded from here https://pypi.org/project/requests/"
   ]
  },
  {
   "cell_type": "markdown",
   "metadata": {},
   "source": [
    "The code below shows the systematic steps followed in getting the required data from the github using the github API"
   ]
  },
  {
   "cell_type": "code",
   "execution_count": 1,
   "metadata": {
    "scrolled": false
   },
   "outputs": [
    {
     "name": "stdout",
     "output_type": "stream",
     "text": [
      "Kindly enter the keyword: Machine Learning: Nigeria\n"
     ]
    },
    {
     "name": "stderr",
     "output_type": "stream",
     "text": [
      "C:\\Users\\Sir_Praise\\anaconda3\\lib\\site-packages\\cryptography\\hazmat\\backends\\openssl\\x509.py:17: CryptographyDeprecationWarning: This version of cryptography contains a temporary pyOpenSSL fallback path. Upgrade pyOpenSSL now.\n",
      "  utils.DeprecatedIn35,\n"
     ]
    },
    {
     "data": {
      "text/html": [
       "<div>\n",
       "<style scoped>\n",
       "    .dataframe tbody tr th:only-of-type {\n",
       "        vertical-align: middle;\n",
       "    }\n",
       "\n",
       "    .dataframe tbody tr th {\n",
       "        vertical-align: top;\n",
       "    }\n",
       "\n",
       "    .dataframe thead th {\n",
       "        text-align: right;\n",
       "    }\n",
       "</style>\n",
       "<table border=\"1\" class=\"dataframe\">\n",
       "  <thead>\n",
       "    <tr style=\"text-align: right;\">\n",
       "      <th></th>\n",
       "      <th>name</th>\n",
       "      <th>login</th>\n",
       "      <th>bio</th>\n",
       "      <th>blog</th>\n",
       "      <th>company</th>\n",
       "      <th>email</th>\n",
       "      <th>followers</th>\n",
       "      <th>following</th>\n",
       "      <th>id</th>\n",
       "      <th>url</th>\n",
       "      <th>location</th>\n",
       "    </tr>\n",
       "  </thead>\n",
       "  <tbody>\n",
       "    <tr>\n",
       "      <th>0</th>\n",
       "      <td>Femi Oladeji</td>\n",
       "      <td>femioladeji</td>\n",
       "      <td>Fullstack dev. I love all things js. Serverles...</td>\n",
       "      <td>http://femioladeji.com</td>\n",
       "      <td>None</td>\n",
       "      <td>None</td>\n",
       "      <td>143</td>\n",
       "      <td>61</td>\n",
       "      <td>17332992</td>\n",
       "      <td>https://api.github.com/users/femioladeji</td>\n",
       "      <td>Amsterdam, Netherlands</td>\n",
       "    </tr>\n",
       "    <tr>\n",
       "      <th>1</th>\n",
       "      <td>Microsoft</td>\n",
       "      <td>microsoft</td>\n",
       "      <td>Open source projects and samples from Microsoft</td>\n",
       "      <td>https://opensource.microsoft.com</td>\n",
       "      <td>None</td>\n",
       "      <td>opensource@microsoft.com</td>\n",
       "      <td>0</td>\n",
       "      <td>0</td>\n",
       "      <td>6154722</td>\n",
       "      <td>https://api.github.com/users/microsoft</td>\n",
       "      <td>Redmond, WA</td>\n",
       "    </tr>\n",
       "    <tr>\n",
       "      <th>2</th>\n",
       "      <td>Victor E. Irekponor</td>\n",
       "      <td>marquisvictor</td>\n",
       "      <td>Data Scientist | Deep Machine Learning Engine...</td>\n",
       "      <td>https://medium.com/@IrekponorVictor</td>\n",
       "      <td>Data Scientist / SWE @Retina-AI</td>\n",
       "      <td>None</td>\n",
       "      <td>55</td>\n",
       "      <td>14</td>\n",
       "      <td>35049903</td>\n",
       "      <td>https://api.github.com/users/marquisvictor</td>\n",
       "      <td>Lagos Nigeria</td>\n",
       "    </tr>\n",
       "    <tr>\n",
       "      <th>3</th>\n",
       "      <td>Omdena Inc.</td>\n",
       "      <td>OmdenaAI</td>\n",
       "      <td>None</td>\n",
       "      <td></td>\n",
       "      <td>None</td>\n",
       "      <td>None</td>\n",
       "      <td>0</td>\n",
       "      <td>0</td>\n",
       "      <td>67275719</td>\n",
       "      <td>https://api.github.com/users/OmdenaAI</td>\n",
       "      <td>None</td>\n",
       "    </tr>\n",
       "    <tr>\n",
       "      <th>4</th>\n",
       "      <td>None</td>\n",
       "      <td>helaisha</td>\n",
       "      <td>None</td>\n",
       "      <td></td>\n",
       "      <td>None</td>\n",
       "      <td>None</td>\n",
       "      <td>1</td>\n",
       "      <td>1</td>\n",
       "      <td>54373934</td>\n",
       "      <td>https://api.github.com/users/helaisha</td>\n",
       "      <td>None</td>\n",
       "    </tr>\n",
       "  </tbody>\n",
       "</table>\n",
       "</div>"
      ],
      "text/plain": [
       "                  name          login  \\\n",
       "0         Femi Oladeji    femioladeji   \n",
       "1            Microsoft      microsoft   \n",
       "2  Victor E. Irekponor  marquisvictor   \n",
       "3          Omdena Inc.       OmdenaAI   \n",
       "4                 None       helaisha   \n",
       "\n",
       "                                                 bio  \\\n",
       "0  Fullstack dev. I love all things js. Serverles...   \n",
       "1    Open source projects and samples from Microsoft   \n",
       "2   Data Scientist | Deep Machine Learning Engine...   \n",
       "3                                               None   \n",
       "4                                               None   \n",
       "\n",
       "                                  blog                          company  \\\n",
       "0               http://femioladeji.com                             None   \n",
       "1     https://opensource.microsoft.com                             None   \n",
       "2  https://medium.com/@IrekponorVictor  Data Scientist / SWE @Retina-AI   \n",
       "3                                                                  None   \n",
       "4                                                                  None   \n",
       "\n",
       "                      email  followers  following        id  \\\n",
       "0                      None        143         61  17332992   \n",
       "1  opensource@microsoft.com          0          0   6154722   \n",
       "2                      None         55         14  35049903   \n",
       "3                      None          0          0  67275719   \n",
       "4                      None          1          1  54373934   \n",
       "\n",
       "                                          url                location  \n",
       "0    https://api.github.com/users/femioladeji  Amsterdam, Netherlands  \n",
       "1      https://api.github.com/users/microsoft             Redmond, WA  \n",
       "2  https://api.github.com/users/marquisvictor           Lagos Nigeria  \n",
       "3       https://api.github.com/users/OmdenaAI                    None  \n",
       "4       https://api.github.com/users/helaisha                    None  "
      ]
     },
     "execution_count": 1,
     "metadata": {},
     "output_type": "execute_result"
    }
   ],
   "source": [
    "# import the necesaary libraries\n",
    "import requests\n",
    "import pandas as pd\n",
    "\n",
    "# enter keyword\n",
    "keyword = str(input(\"Kindly enter the keyword: \"))\n",
    " #search for the top repositories\n",
    "api_url = f\"https://api.github.com/search/repositories?q={keyword}\"\n",
    "#send get request\n",
    "response = requests.get(api_url)\n",
    "\n",
    "#get the json data\n",
    "data =  response.json()\n",
    "\n",
    "\n",
    "#get the json data\n",
    "data =  response.json()\n",
    "\n",
    "# Get dataframe\n",
    "all_df = pd.DataFrame()\n",
    "for i in data['items']:\n",
    "    owner = i['owner']\n",
    "    link_url = owner['url']\n",
    "\n",
    "    #send get request\n",
    "    response_link = requests.get(link_url)\n",
    "\n",
    "    #get the json data\n",
    "    info =  response_link.json()\n",
    "\n",
    "    df = pd.DataFrame([info])\n",
    "    all_df = all_df.append(df, ignore_index=True)\n",
    "    \n",
    "required_columns = ['name', 'login', 'bio', 'blog', 'company', 'email', \n",
    "                    'followers', 'following', 'id', 'url', 'location']  \n",
    "\n",
    "required_dataframe = pd.DataFrame(all_df, columns=required_columns)\n",
    "\n",
    "required_dataframe.head()"
   ]
  },
  {
   "cell_type": "code",
   "execution_count": 2,
   "metadata": {},
   "outputs": [
    {
     "data": {
      "text/plain": [
       "(30, 11)"
      ]
     },
     "execution_count": 2,
     "metadata": {},
     "output_type": "execute_result"
    }
   ],
   "source": [
    "# we check the shape of the data\n",
    "required_dataframe.shape"
   ]
  },
  {
   "cell_type": "code",
   "execution_count": 3,
   "metadata": {},
   "outputs": [],
   "source": [
    "# we export the data\n",
    "required_dataframe.to_csv('techies_data_nigeria.csv', index=False)"
   ]
  },
  {
   "cell_type": "markdown",
   "metadata": {},
   "source": [
    "## SECTION B (Data Storage and Reporting) - SKLEARN/SQL"
   ]
  },
  {
   "cell_type": "markdown",
   "metadata": {},
   "source": [
    "## 1. Mean Shift Cluster Analysis\n",
    "Here, I have described the systematic steps carried out in performing a simple cluster analysis, using the Mean Shift method. "
   ]
  },
  {
   "cell_type": "markdown",
   "metadata": {},
   "source": [
    "#### 1. We Load the data"
   ]
  },
  {
   "cell_type": "code",
   "execution_count": 1,
   "metadata": {},
   "outputs": [],
   "source": [
    "# import necessary libaries\n",
    "import pandas as pd\n",
    "import numpy as np\n",
    "import matplotlib.pyplot as plt\n",
    "%matplotlib inline "
   ]
  },
  {
   "cell_type": "code",
   "execution_count": 2,
   "metadata": {},
   "outputs": [],
   "source": [
    "# get data\n",
    "techies_data_nigeria = pd.read_csv('techies_data_nigeria.csv')"
   ]
  },
  {
   "cell_type": "code",
   "execution_count": 3,
   "metadata": {
    "scrolled": false
   },
   "outputs": [
    {
     "data": {
      "text/html": [
       "<div>\n",
       "<style scoped>\n",
       "    .dataframe tbody tr th:only-of-type {\n",
       "        vertical-align: middle;\n",
       "    }\n",
       "\n",
       "    .dataframe tbody tr th {\n",
       "        vertical-align: top;\n",
       "    }\n",
       "\n",
       "    .dataframe thead th {\n",
       "        text-align: right;\n",
       "    }\n",
       "</style>\n",
       "<table border=\"1\" class=\"dataframe\">\n",
       "  <thead>\n",
       "    <tr style=\"text-align: right;\">\n",
       "      <th></th>\n",
       "      <th>name</th>\n",
       "      <th>login</th>\n",
       "      <th>bio</th>\n",
       "      <th>blog</th>\n",
       "      <th>company</th>\n",
       "      <th>email</th>\n",
       "      <th>followers</th>\n",
       "      <th>following</th>\n",
       "      <th>id</th>\n",
       "      <th>url</th>\n",
       "      <th>location</th>\n",
       "    </tr>\n",
       "  </thead>\n",
       "  <tbody>\n",
       "    <tr>\n",
       "      <th>0</th>\n",
       "      <td>Femi Oladeji</td>\n",
       "      <td>femioladeji</td>\n",
       "      <td>Fullstack dev. I love all things js. Serverles...</td>\n",
       "      <td>http://femioladeji.com</td>\n",
       "      <td>NaN</td>\n",
       "      <td>NaN</td>\n",
       "      <td>143</td>\n",
       "      <td>61</td>\n",
       "      <td>17332992</td>\n",
       "      <td>https://api.github.com/users/femioladeji</td>\n",
       "      <td>Amsterdam, Netherlands</td>\n",
       "    </tr>\n",
       "    <tr>\n",
       "      <th>1</th>\n",
       "      <td>Microsoft</td>\n",
       "      <td>microsoft</td>\n",
       "      <td>Open source projects and samples from Microsoft</td>\n",
       "      <td>https://opensource.microsoft.com</td>\n",
       "      <td>NaN</td>\n",
       "      <td>opensource@microsoft.com</td>\n",
       "      <td>0</td>\n",
       "      <td>0</td>\n",
       "      <td>6154722</td>\n",
       "      <td>https://api.github.com/users/microsoft</td>\n",
       "      <td>Redmond, WA</td>\n",
       "    </tr>\n",
       "    <tr>\n",
       "      <th>2</th>\n",
       "      <td>Victor E. Irekponor</td>\n",
       "      <td>marquisvictor</td>\n",
       "      <td>Data Scientist | Deep Machine Learning Engine...</td>\n",
       "      <td>https://medium.com/@IrekponorVictor</td>\n",
       "      <td>Data Scientist / SWE @Retina-AI</td>\n",
       "      <td>NaN</td>\n",
       "      <td>55</td>\n",
       "      <td>14</td>\n",
       "      <td>35049903</td>\n",
       "      <td>https://api.github.com/users/marquisvictor</td>\n",
       "      <td>Lagos Nigeria</td>\n",
       "    </tr>\n",
       "    <tr>\n",
       "      <th>3</th>\n",
       "      <td>Omdena Inc.</td>\n",
       "      <td>OmdenaAI</td>\n",
       "      <td>NaN</td>\n",
       "      <td>NaN</td>\n",
       "      <td>NaN</td>\n",
       "      <td>NaN</td>\n",
       "      <td>0</td>\n",
       "      <td>0</td>\n",
       "      <td>67275719</td>\n",
       "      <td>https://api.github.com/users/OmdenaAI</td>\n",
       "      <td>NaN</td>\n",
       "    </tr>\n",
       "    <tr>\n",
       "      <th>4</th>\n",
       "      <td>NaN</td>\n",
       "      <td>helaisha</td>\n",
       "      <td>NaN</td>\n",
       "      <td>NaN</td>\n",
       "      <td>NaN</td>\n",
       "      <td>NaN</td>\n",
       "      <td>1</td>\n",
       "      <td>1</td>\n",
       "      <td>54373934</td>\n",
       "      <td>https://api.github.com/users/helaisha</td>\n",
       "      <td>NaN</td>\n",
       "    </tr>\n",
       "  </tbody>\n",
       "</table>\n",
       "</div>"
      ],
      "text/plain": [
       "                  name          login  \\\n",
       "0         Femi Oladeji    femioladeji   \n",
       "1            Microsoft      microsoft   \n",
       "2  Victor E. Irekponor  marquisvictor   \n",
       "3          Omdena Inc.       OmdenaAI   \n",
       "4                  NaN       helaisha   \n",
       "\n",
       "                                                 bio  \\\n",
       "0  Fullstack dev. I love all things js. Serverles...   \n",
       "1    Open source projects and samples from Microsoft   \n",
       "2   Data Scientist | Deep Machine Learning Engine...   \n",
       "3                                                NaN   \n",
       "4                                                NaN   \n",
       "\n",
       "                                  blog                          company  \\\n",
       "0               http://femioladeji.com                              NaN   \n",
       "1     https://opensource.microsoft.com                              NaN   \n",
       "2  https://medium.com/@IrekponorVictor  Data Scientist / SWE @Retina-AI   \n",
       "3                                  NaN                              NaN   \n",
       "4                                  NaN                              NaN   \n",
       "\n",
       "                      email  followers  following        id  \\\n",
       "0                       NaN        143         61  17332992   \n",
       "1  opensource@microsoft.com          0          0   6154722   \n",
       "2                       NaN         55         14  35049903   \n",
       "3                       NaN          0          0  67275719   \n",
       "4                       NaN          1          1  54373934   \n",
       "\n",
       "                                          url                location  \n",
       "0    https://api.github.com/users/femioladeji  Amsterdam, Netherlands  \n",
       "1      https://api.github.com/users/microsoft             Redmond, WA  \n",
       "2  https://api.github.com/users/marquisvictor           Lagos Nigeria  \n",
       "3       https://api.github.com/users/OmdenaAI                     NaN  \n",
       "4       https://api.github.com/users/helaisha                     NaN  "
      ]
     },
     "execution_count": 3,
     "metadata": {},
     "output_type": "execute_result"
    }
   ],
   "source": [
    "techies_data_nigeria.head() # get the first five rows of data"
   ]
  },
  {
   "cell_type": "markdown",
   "metadata": {},
   "source": [
    "## Data Quality Issues\n",
    "Is very important to identify and handle some of the encountered data quality issues so that it will be feedable to our model and equally ensure that any bias is avoided. "
   ]
  },
  {
   "cell_type": "markdown",
   "metadata": {},
   "source": [
    "1. ### Detecting and Handling Duplicates\n",
    "First, lets checkout for duplicates, using the simple function count for uniques below. We will be making use of the 'id' column because of its expected uniqueness. "
   ]
  },
  {
   "cell_type": "code",
   "execution_count": 4,
   "metadata": {},
   "outputs": [
    {
     "name": "stdout",
     "output_type": "stream",
     "text": [
      "\n",
      "For column id\n",
      "38926059    3\n",
      "49945789    1\n",
      "87527273    1\n",
      "86238341    1\n",
      "67275719    1\n",
      "26260619    1\n",
      "32442828    1\n",
      "25937490    1\n",
      "47320343    1\n",
      "68328859    1\n",
      "19632990    1\n",
      "6154722     1\n",
      "2711141     1\n",
      "78174119    1\n",
      "86897066    1\n",
      "51395068    1\n",
      "68706251    1\n",
      "45665517    1\n",
      "54373934    1\n",
      "35049903    1\n",
      "54807024    1\n",
      "28939122    1\n",
      "45480178    1\n",
      "40832438    1\n",
      "7585826     1\n",
      "48096696    1\n",
      "5084987     1\n",
      "17332992    1\n",
      "Name: id, dtype: int64\n"
     ]
    }
   ],
   "source": [
    "def count_unique(techies_data_nigeria, cols):\n",
    "    \n",
    "    for col in cols:\n",
    "        print('\\n' + 'For column ' + col)\n",
    "        print(techies_data_nigeria[col].value_counts())\n",
    "\n",
    "cat_cols = ['id']\n",
    "\n",
    "count_unique(techies_data_nigeria, cat_cols)"
   ]
  },
  {
   "cell_type": "markdown",
   "metadata": {},
   "source": [
    "From above, it shows that we are having a particular id appearing 3 times, hence, to handle this we use the pandas drop_duplicate method to drop the duplicates while leaving the first observation."
   ]
  },
  {
   "cell_type": "code",
   "execution_count": 5,
   "metadata": {},
   "outputs": [],
   "source": [
    "# We drop the row\n",
    "techies_data_nigeria.drop_duplicates(subset= 'id', \n",
    "                                    keep='first', \n",
    "                                    inplace=True)"
   ]
  },
  {
   "cell_type": "markdown",
   "metadata": {},
   "source": [
    "Is always important to check and confirm the validaty of our codes."
   ]
  },
  {
   "cell_type": "code",
   "execution_count": 6,
   "metadata": {
    "scrolled": false
   },
   "outputs": [
    {
     "name": "stdout",
     "output_type": "stream",
     "text": [
      "\n",
      "For column id\n",
      "49945789    1\n",
      "51395068    1\n",
      "86238341    1\n",
      "67275719    1\n",
      "26260619    1\n",
      "32442828    1\n",
      "25937490    1\n",
      "47320343    1\n",
      "68328859    1\n",
      "19632990    1\n",
      "6154722     1\n",
      "2711141     1\n",
      "78174119    1\n",
      "87527273    1\n",
      "86897066    1\n",
      "38926059    1\n",
      "68706251    1\n",
      "45665517    1\n",
      "54373934    1\n",
      "35049903    1\n",
      "54807024    1\n",
      "28939122    1\n",
      "45480178    1\n",
      "40832438    1\n",
      "7585826     1\n",
      "48096696    1\n",
      "5084987     1\n",
      "17332992    1\n",
      "Name: id, dtype: int64\n"
     ]
    }
   ],
   "source": [
    "# Check again to confirm\n",
    "count_unique(techies_data_nigeria, cat_cols)"
   ]
  },
  {
   "cell_type": "markdown",
   "metadata": {},
   "source": [
    "The duplicates are handled !"
   ]
  },
  {
   "cell_type": "markdown",
   "metadata": {},
   "source": [
    "## Note !\n",
    "There are other data issues which can be handled, however we may be leaving them for now as they will be handled subseqently in this project."
   ]
  },
  {
   "cell_type": "markdown",
   "metadata": {},
   "source": [
    "### 2. Select the required features\n"
   ]
  },
  {
   "cell_type": "markdown",
   "metadata": {},
   "source": [
    "Next, we select the necessary features. The following reasons support while the 'login', 'followers', 'following', 'id' and 'url' were chosen as inputes;\n",
    "* Since clustering analysis involves a method of classifying data into groups of uniquenesses, hence it will be very imperative to select those features that are perculiar to the users. \n",
    "* These features are mostly clean with little or no missing data points, thereby availing us with unsynthetic data values by  means of imputation methods"
   ]
  },
  {
   "cell_type": "code",
   "execution_count": 7,
   "metadata": {},
   "outputs": [
    {
     "data": {
      "text/html": [
       "<div>\n",
       "<style scoped>\n",
       "    .dataframe tbody tr th:only-of-type {\n",
       "        vertical-align: middle;\n",
       "    }\n",
       "\n",
       "    .dataframe tbody tr th {\n",
       "        vertical-align: top;\n",
       "    }\n",
       "\n",
       "    .dataframe thead th {\n",
       "        text-align: right;\n",
       "    }\n",
       "</style>\n",
       "<table border=\"1\" class=\"dataframe\">\n",
       "  <thead>\n",
       "    <tr style=\"text-align: right;\">\n",
       "      <th></th>\n",
       "      <th>login</th>\n",
       "      <th>followers</th>\n",
       "      <th>following</th>\n",
       "      <th>id</th>\n",
       "      <th>url</th>\n",
       "    </tr>\n",
       "  </thead>\n",
       "  <tbody>\n",
       "    <tr>\n",
       "      <th>0</th>\n",
       "      <td>femioladeji</td>\n",
       "      <td>143</td>\n",
       "      <td>61</td>\n",
       "      <td>17332992</td>\n",
       "      <td>https://api.github.com/users/femioladeji</td>\n",
       "    </tr>\n",
       "    <tr>\n",
       "      <th>1</th>\n",
       "      <td>microsoft</td>\n",
       "      <td>0</td>\n",
       "      <td>0</td>\n",
       "      <td>6154722</td>\n",
       "      <td>https://api.github.com/users/microsoft</td>\n",
       "    </tr>\n",
       "    <tr>\n",
       "      <th>2</th>\n",
       "      <td>marquisvictor</td>\n",
       "      <td>55</td>\n",
       "      <td>14</td>\n",
       "      <td>35049903</td>\n",
       "      <td>https://api.github.com/users/marquisvictor</td>\n",
       "    </tr>\n",
       "    <tr>\n",
       "      <th>3</th>\n",
       "      <td>OmdenaAI</td>\n",
       "      <td>0</td>\n",
       "      <td>0</td>\n",
       "      <td>67275719</td>\n",
       "      <td>https://api.github.com/users/OmdenaAI</td>\n",
       "    </tr>\n",
       "    <tr>\n",
       "      <th>4</th>\n",
       "      <td>helaisha</td>\n",
       "      <td>1</td>\n",
       "      <td>1</td>\n",
       "      <td>54373934</td>\n",
       "      <td>https://api.github.com/users/helaisha</td>\n",
       "    </tr>\n",
       "  </tbody>\n",
       "</table>\n",
       "</div>"
      ],
      "text/plain": [
       "           login  followers  following        id  \\\n",
       "0    femioladeji        143         61  17332992   \n",
       "1      microsoft          0          0   6154722   \n",
       "2  marquisvictor         55         14  35049903   \n",
       "3       OmdenaAI          0          0  67275719   \n",
       "4       helaisha          1          1  54373934   \n",
       "\n",
       "                                          url  \n",
       "0    https://api.github.com/users/femioladeji  \n",
       "1      https://api.github.com/users/microsoft  \n",
       "2  https://api.github.com/users/marquisvictor  \n",
       "3       https://api.github.com/users/OmdenaAI  \n",
       "4       https://api.github.com/users/helaisha  "
      ]
     },
     "execution_count": 7,
     "metadata": {},
     "output_type": "execute_result"
    }
   ],
   "source": [
    "# create new dataframe\n",
    "techies_df = pd.DataFrame(techies_data_nigeria, columns=['login', 'followers', 'following', 'id', 'url'] )\n",
    "techies_df.head()"
   ]
  },
  {
   "cell_type": "markdown",
   "metadata": {},
   "source": [
    "### 3. Feature Encoding\n",
    "Since our model only accepts numerical data points, hence is necessary to encode the string or object features. For this reason the ordinal encoding method will be used."
   ]
  },
  {
   "cell_type": "code",
   "execution_count": 8,
   "metadata": {},
   "outputs": [],
   "source": [
    "# ordinal encode input variables\n",
    "from sklearn.preprocessing import OrdinalEncoder\n",
    "\n",
    "ord_en = OrdinalEncoder()\n",
    "X_ord = ord_en.fit_transform(techies_df[['login', 'url']])\n",
    "Xord_df = pd.DataFrame(X_ord, columns=['login', 'url'])"
   ]
  },
  {
   "cell_type": "code",
   "execution_count": 9,
   "metadata": {},
   "outputs": [],
   "source": [
    "Xord_df[['followers', 'following', 'id']] = techies_df[['followers', 'following', 'id']]"
   ]
  },
  {
   "cell_type": "code",
   "execution_count": 10,
   "metadata": {
    "scrolled": true
   },
   "outputs": [
    {
     "data": {
      "text/html": [
       "<div>\n",
       "<style scoped>\n",
       "    .dataframe tbody tr th:only-of-type {\n",
       "        vertical-align: middle;\n",
       "    }\n",
       "\n",
       "    .dataframe tbody tr th {\n",
       "        vertical-align: top;\n",
       "    }\n",
       "\n",
       "    .dataframe thead th {\n",
       "        text-align: right;\n",
       "    }\n",
       "</style>\n",
       "<table border=\"1\" class=\"dataframe\">\n",
       "  <thead>\n",
       "    <tr style=\"text-align: right;\">\n",
       "      <th></th>\n",
       "      <th>login</th>\n",
       "      <th>url</th>\n",
       "      <th>followers</th>\n",
       "      <th>following</th>\n",
       "      <th>id</th>\n",
       "    </tr>\n",
       "  </thead>\n",
       "  <tbody>\n",
       "    <tr>\n",
       "      <th>0</th>\n",
       "      <td>16.0</td>\n",
       "      <td>16.0</td>\n",
       "      <td>143.0</td>\n",
       "      <td>61.0</td>\n",
       "      <td>17332992.0</td>\n",
       "    </tr>\n",
       "    <tr>\n",
       "      <th>1</th>\n",
       "      <td>22.0</td>\n",
       "      <td>22.0</td>\n",
       "      <td>0.0</td>\n",
       "      <td>0.0</td>\n",
       "      <td>6154722.0</td>\n",
       "    </tr>\n",
       "    <tr>\n",
       "      <th>2</th>\n",
       "      <td>21.0</td>\n",
       "      <td>21.0</td>\n",
       "      <td>55.0</td>\n",
       "      <td>14.0</td>\n",
       "      <td>35049903.0</td>\n",
       "    </tr>\n",
       "    <tr>\n",
       "      <th>3</th>\n",
       "      <td>5.0</td>\n",
       "      <td>5.0</td>\n",
       "      <td>0.0</td>\n",
       "      <td>0.0</td>\n",
       "      <td>67275719.0</td>\n",
       "    </tr>\n",
       "    <tr>\n",
       "      <th>4</th>\n",
       "      <td>19.0</td>\n",
       "      <td>19.0</td>\n",
       "      <td>1.0</td>\n",
       "      <td>1.0</td>\n",
       "      <td>54373934.0</td>\n",
       "    </tr>\n",
       "  </tbody>\n",
       "</table>\n",
       "</div>"
      ],
      "text/plain": [
       "   login   url  followers  following          id\n",
       "0   16.0  16.0      143.0       61.0  17332992.0\n",
       "1   22.0  22.0        0.0        0.0   6154722.0\n",
       "2   21.0  21.0       55.0       14.0  35049903.0\n",
       "3    5.0   5.0        0.0        0.0  67275719.0\n",
       "4   19.0  19.0        1.0        1.0  54373934.0"
      ]
     },
     "execution_count": 10,
     "metadata": {},
     "output_type": "execute_result"
    }
   ],
   "source": [
    "Xord_df.head() # lets see the encoded data"
   ]
  },
  {
   "cell_type": "code",
   "execution_count": 11,
   "metadata": {
    "scrolled": true
   },
   "outputs": [
    {
     "data": {
      "text/plain": [
       "login        0\n",
       "url          0\n",
       "followers    2\n",
       "following    2\n",
       "id           2\n",
       "dtype: int64"
      ]
     },
     "execution_count": 11,
     "metadata": {},
     "output_type": "execute_result"
    }
   ],
   "source": [
    "# lets check for missing values\n",
    "Xord_df.isnull().sum()"
   ]
  },
  {
   "cell_type": "markdown",
   "metadata": {},
   "source": [
    "We can see that last 3 features have missing values. However, it will be better to replace the 'followers' and the 'following' features with their mean whie the 'id' will be droped since any form of replacement will lead to duplication."
   ]
  },
  {
   "cell_type": "code",
   "execution_count": 12,
   "metadata": {},
   "outputs": [],
   "source": [
    "Xord_df['followers'] = Xord_df['followers'].fillna(Xord_df['followers'].mean())\n",
    "Xord_df['following'] = Xord_df['following'].fillna(Xord_df['following'].mean())\n",
    "\n",
    "Xord_df = Xord_df.dropna()"
   ]
  },
  {
   "cell_type": "code",
   "execution_count": 13,
   "metadata": {},
   "outputs": [
    {
     "data": {
      "text/plain": [
       "login        0\n",
       "url          0\n",
       "followers    0\n",
       "following    0\n",
       "id           0\n",
       "dtype: int64"
      ]
     },
     "execution_count": 13,
     "metadata": {},
     "output_type": "execute_result"
    }
   ],
   "source": [
    "Xord_df.isnull().sum()"
   ]
  },
  {
   "cell_type": "markdown",
   "metadata": {},
   "source": [
    "### 4. Feature Scaling\n",
    "Next, we scale the data into common or similar data ranges so as to avoid any form of bias by our model. To this effect, the StandardScaler method would be adopted as seen below."
   ]
  },
  {
   "cell_type": "code",
   "execution_count": 14,
   "metadata": {},
   "outputs": [],
   "source": [
    "from sklearn.preprocessing import StandardScaler\n",
    "trans = StandardScaler()\n",
    "X_input = trans.fit_transform(Xord_df)"
   ]
  },
  {
   "cell_type": "code",
   "execution_count": 15,
   "metadata": {},
   "outputs": [
    {
     "data": {
      "text/plain": [
       "array([[ 0.27219014,  0.27219014,  3.60269409,  2.13332593, -1.03061795],\n",
       "       [ 0.99187934,  0.99187934, -0.49734161, -0.51828451, -1.46578886],\n",
       "       [ 0.87193114,  0.87193114,  1.0795952 ,  0.09028182, -0.34089726],\n",
       "       [-1.04724005, -1.04724005, -0.49734161, -0.51828451,  0.91365622],\n",
       "       [ 0.63203474,  0.63203474, -0.46867003, -0.47481549,  0.41138875],\n",
       "       [-0.68739545, -0.68739545, -0.49734161, -0.47481549, -0.94107885],\n",
       "       [ 0.75198294,  0.75198294, -0.49734161, -0.51828451,  1.70205076],\n",
       "       [-0.56744725, -0.56744725,  0.36280574, -0.30093939, -0.18999821],\n",
       "       [ 1.23177574,  1.23177574, -0.41132687, -0.04012525, -1.59984773],\n",
       "       [ 0.03229375,  0.03229375, -0.46867003, -0.47481549,  0.29542127],\n",
       "       [ 0.39213834,  0.39213834, -0.49734161, -0.51828451,  1.33793177],\n",
       "       [-1.40708464, -1.40708464, -0.32531214, -0.25747037, -1.41007587],\n",
       "       [ 0.15224195,  0.15224195, -0.49734161, -0.47481549,  1.65187254],\n",
       "       [-0.20760265, -0.20760265, -0.29664056, -0.38787744,  0.23900072],\n",
       "       [-1.28713645, -1.28713645,  0.62084995,  0.87272424, -0.69564419],\n",
       "       [ 1.47167214,  1.47167214,  2.74254674,  4.13290101, -0.68306475],\n",
       "       [-1.16718825, -1.16718825, -0.3826553 , -0.21400135,  0.06515415],\n",
       "       [-0.92729185, -0.92729185, -0.46867003, -0.47481549,  0.96934694],\n",
       "       [ 1.35172394,  1.35172394, -0.29664056, -0.30093939,  0.16701539],\n",
       "       [-0.08765445, -0.08765445, -0.46867003, -0.43134646, -1.50743372],\n",
       "       [-1.52703284, -1.52703284, -0.00992478,  0.26415791,  1.67751676],\n",
       "       [ 1.11182754,  1.11182754, -0.41132687, -0.25747037,  0.42824897],\n",
       "       [-0.80734365, -0.80734365, -0.49734161, -0.51828451,  0.95465504],\n",
       "       [-1.64698104, -1.64698104,  0.0187468 ,  0.35109596, -0.57879043],\n",
       "       [ 0.51208654,  0.51208654, -0.46867003, -0.34440842,  0.07236941],\n",
       "       [ 1.59162034,  1.59162034, -0.46867003, -0.34440842, -0.44239088]])"
      ]
     },
     "execution_count": 15,
     "metadata": {},
     "output_type": "execute_result"
    }
   ],
   "source": [
    "X_input # array of the scaled data"
   ]
  },
  {
   "cell_type": "markdown",
   "metadata": {},
   "source": [
    "###  5. Mean Shift Implementation"
   ]
  },
  {
   "cell_type": "code",
   "execution_count": 16,
   "metadata": {},
   "outputs": [
    {
     "name": "stdout",
     "output_type": "stream",
     "text": [
      "number of estimated clusters : 4\n"
     ]
    },
    {
     "data": {
      "image/png": "[encoded data removed]",
      "text/plain": [
       "<Figure size 432x288 with 1 Axes>"
      ]
     },
     "metadata": {
      "needs_background": "light"
     },
     "output_type": "display_data"
    }
   ],
   "source": [
    "# get the necesary methods or functions\n",
    "from sklearn.cluster import MeanShift, estimate_bandwidth\n",
    "\n",
    "# Generate sample data\n",
    "\n",
    "X = X_input \n",
    "\n",
    "# Compute clustering with MeanShift\n",
    "\n",
    "# The following bandwidth can be automatically detected using\n",
    "bandwidth = estimate_bandwidth(X, quantile=0.2, n_samples=200)\n",
    "\n",
    "ms = MeanShift(bandwidth=2, bin_seeding=True)\n",
    "ms.fit(X)\n",
    "labels = ms.labels_\n",
    "cluster_centers = ms.cluster_centers_\n",
    "\n",
    "labels_unique = np.unique(labels)\n",
    "n_clusters_ = len(labels_unique)\n",
    "\n",
    "print(\"number of estimated clusters : %d\" % n_clusters_)\n",
    "\n",
    "# #############################################################################\n",
    "# Plot result\n",
    "import matplotlib.pyplot as plt\n",
    "from itertools import cycle\n",
    "\n",
    "plt.figure(1)\n",
    "plt.clf()\n",
    "\n",
    "colors = cycle(\"bgrcmykbgrcmykbgrcmykbgrcmyk\")\n",
    "for k, col in zip(range(n_clusters_), colors):\n",
    "    my_members = labels == k\n",
    "    cluster_center = cluster_centers[k]\n",
    "    plt.plot(X[my_members, 0], X[my_members, 1], col + \".\")\n",
    "    plt.plot(\n",
    "        cluster_center[0],\n",
    "        cluster_center[1],\n",
    "        \"o\",\n",
    "        markerfacecolor=col,\n",
    "        markeredgecolor=\"k\",\n",
    "        markersize=14,\n",
    "    )\n",
    "plt.title(\"Estimated number of clusters: %d\" % n_clusters_)\n",
    "plt.show()"
   ]
  },
  {
   "cell_type": "markdown",
   "metadata": {},
   "source": [
    "This shows or indicates 4 clusters from our data, for better understanding of our data, lets make use of seaborn library."
   ]
  },
  {
   "cell_type": "code",
   "execution_count": 17,
   "metadata": {},
   "outputs": [],
   "source": [
    "import seaborn as sns"
   ]
  },
  {
   "cell_type": "code",
   "execution_count": 18,
   "metadata": {},
   "outputs": [
    {
     "data": {
      "text/html": [
       "<div>\n",
       "<style scoped>\n",
       "    .dataframe tbody tr th:only-of-type {\n",
       "        vertical-align: middle;\n",
       "    }\n",
       "\n",
       "    .dataframe tbody tr th {\n",
       "        vertical-align: top;\n",
       "    }\n",
       "\n",
       "    .dataframe thead th {\n",
       "        text-align: right;\n",
       "    }\n",
       "</style>\n",
       "<table border=\"1\" class=\"dataframe\">\n",
       "  <thead>\n",
       "    <tr style=\"text-align: right;\">\n",
       "      <th></th>\n",
       "      <th>login</th>\n",
       "      <th>url</th>\n",
       "      <th>id</th>\n",
       "      <th>followers</th>\n",
       "      <th>following</th>\n",
       "    </tr>\n",
       "  </thead>\n",
       "  <tbody>\n",
       "    <tr>\n",
       "      <th>0</th>\n",
       "      <td>0.272190</td>\n",
       "      <td>0.272190</td>\n",
       "      <td>3.602694</td>\n",
       "      <td>2.133326</td>\n",
       "      <td>-1.030618</td>\n",
       "    </tr>\n",
       "    <tr>\n",
       "      <th>1</th>\n",
       "      <td>0.991879</td>\n",
       "      <td>0.991879</td>\n",
       "      <td>-0.497342</td>\n",
       "      <td>-0.518285</td>\n",
       "      <td>-1.465789</td>\n",
       "    </tr>\n",
       "    <tr>\n",
       "      <th>2</th>\n",
       "      <td>0.871931</td>\n",
       "      <td>0.871931</td>\n",
       "      <td>1.079595</td>\n",
       "      <td>0.090282</td>\n",
       "      <td>-0.340897</td>\n",
       "    </tr>\n",
       "    <tr>\n",
       "      <th>3</th>\n",
       "      <td>-1.047240</td>\n",
       "      <td>-1.047240</td>\n",
       "      <td>-0.497342</td>\n",
       "      <td>-0.518285</td>\n",
       "      <td>0.913656</td>\n",
       "    </tr>\n",
       "    <tr>\n",
       "      <th>4</th>\n",
       "      <td>0.632035</td>\n",
       "      <td>0.632035</td>\n",
       "      <td>-0.468670</td>\n",
       "      <td>-0.474815</td>\n",
       "      <td>0.411389</td>\n",
       "    </tr>\n",
       "  </tbody>\n",
       "</table>\n",
       "</div>"
      ],
      "text/plain": [
       "      login       url        id  followers  following\n",
       "0  0.272190  0.272190  3.602694   2.133326  -1.030618\n",
       "1  0.991879  0.991879 -0.497342  -0.518285  -1.465789\n",
       "2  0.871931  0.871931  1.079595   0.090282  -0.340897\n",
       "3 -1.047240 -1.047240 -0.497342  -0.518285   0.913656\n",
       "4  0.632035  0.632035 -0.468670  -0.474815   0.411389"
      ]
     },
     "execution_count": 18,
     "metadata": {},
     "output_type": "execute_result"
    }
   ],
   "source": [
    "# we quickly create the dataframe for our input data\n",
    "df = pd.DataFrame(X_input, columns=['login','url','id','followers', 'following'])\n",
    "df.head()"
   ]
  },
  {
   "cell_type": "code",
   "execution_count": 19,
   "metadata": {},
   "outputs": [],
   "source": [
    "# we add the uniques clusters to a created column in our dataframe\n",
    "df['clusters'] = labels"
   ]
  },
  {
   "cell_type": "code",
   "execution_count": 20,
   "metadata": {
    "scrolled": false
   },
   "outputs": [
    {
     "name": "stderr",
     "output_type": "stream",
     "text": [
      "C:\\Users\\Sir_Praise\\anaconda3\\lib\\site-packages\\seaborn\\distributions.py:288: UserWarning: Data must have variance to compute a kernel density estimate.\n",
      "  warnings.warn(msg, UserWarning)\n",
      "C:\\Users\\Sir_Praise\\anaconda3\\lib\\site-packages\\seaborn\\distributions.py:288: UserWarning: Data must have variance to compute a kernel density estimate.\n",
      "  warnings.warn(msg, UserWarning)\n",
      "C:\\Users\\Sir_Praise\\anaconda3\\lib\\site-packages\\seaborn\\distributions.py:288: UserWarning: Data must have variance to compute a kernel density estimate.\n",
      "  warnings.warn(msg, UserWarning)\n",
      "C:\\Users\\Sir_Praise\\anaconda3\\lib\\site-packages\\seaborn\\distributions.py:288: UserWarning: Data must have variance to compute a kernel density estimate.\n",
      "  warnings.warn(msg, UserWarning)\n",
      "C:\\Users\\Sir_Praise\\anaconda3\\lib\\site-packages\\seaborn\\distributions.py:288: UserWarning: Data must have variance to compute a kernel density estimate.\n",
      "  warnings.warn(msg, UserWarning)\n",
      "C:\\Users\\Sir_Praise\\anaconda3\\lib\\site-packages\\seaborn\\distributions.py:288: UserWarning: Data must have variance to compute a kernel density estimate.\n",
      "  warnings.warn(msg, UserWarning)\n",
      "C:\\Users\\Sir_Praise\\anaconda3\\lib\\site-packages\\seaborn\\distributions.py:288: UserWarning: Data must have variance to compute a kernel density estimate.\n",
      "  warnings.warn(msg, UserWarning)\n",
      "C:\\Users\\Sir_Praise\\anaconda3\\lib\\site-packages\\seaborn\\distributions.py:288: UserWarning: Data must have variance to compute a kernel density estimate.\n",
      "  warnings.warn(msg, UserWarning)\n",
      "C:\\Users\\Sir_Praise\\anaconda3\\lib\\site-packages\\seaborn\\distributions.py:288: UserWarning: Data must have variance to compute a kernel density estimate.\n",
      "  warnings.warn(msg, UserWarning)\n",
      "C:\\Users\\Sir_Praise\\anaconda3\\lib\\site-packages\\seaborn\\distributions.py:288: UserWarning: Data must have variance to compute a kernel density estimate.\n",
      "  warnings.warn(msg, UserWarning)\n"
     ]
    },
    {
     "data": {
      "text/plain": [
       "<seaborn.axisgrid.PairGrid at 0x2821e47f108>"
      ]
     },
     "execution_count": 20,
     "metadata": {},
     "output_type": "execute_result"
    },
    {
     "data": {
      "image/png": "[encoded data removed]",
      "text/plain": [
       "<Figure size 947.375x900 with 30 Axes>"
      ]
     },
     "metadata": {
      "needs_background": "light"
     },
     "output_type": "display_data"
    }
   ],
   "source": [
    "# Lets make a pairplot \n",
    "sns.pairplot(df, vars=['login','url','id','followers', 'following'], hue = 'clusters', \n",
    "             palette = ['black','lime', 'red', 'green', 'yellow'])"
   ]
  },
  {
   "cell_type": "markdown",
   "metadata": {},
   "source": [
    "## Brief Explanation of the Clusters"
   ]
  },
  {
   "cell_type": "markdown",
   "metadata": {},
   "source": [
    "The gaol of clustering anaysis is to find different groups within the elements in the data. Hence, to do so, clustering algorithms find the structure in the data so that elements of the same cluster (or group) are more similar to each other than to those from different clusters.\n",
    "\n"
   ]
  },
  {
   "cell_type": "markdown",
   "metadata": {},
   "source": [
    "From the analysis carried, we can see that the algorithm identified 4 clusters otherwise known as groups. Hence, the clusters can signify any of the following:\n",
    "* Cluster of users who are individuals\n",
    "* Clusters of users who are  companies\n",
    "* Clusters of users who have certain amount of followers or people following them\n",
    "* Clusters of users who are employed or attached to a company.\n",
    "## Note !\n",
    "The above are just assumptions which must be validated through experimentations. Further research and analysis need to be carried out."
   ]
  },
  {
   "cell_type": "markdown",
   "metadata": {},
   "source": [
    "## 2. Writing Data into a Database"
   ]
  },
  {
   "cell_type": "markdown",
   "metadata": {},
   "source": [
    "Here, I will be using the sqlite3 database library. Where I started first by creating the database and after which writing the data into the created database. "
   ]
  },
  {
   "cell_type": "code",
   "execution_count": 21,
   "metadata": {
    "scrolled": false
   },
   "outputs": [
    {
     "data": {
      "text/html": [
       "<div>\n",
       "<style scoped>\n",
       "    .dataframe tbody tr th:only-of-type {\n",
       "        vertical-align: middle;\n",
       "    }\n",
       "\n",
       "    .dataframe tbody tr th {\n",
       "        vertical-align: top;\n",
       "    }\n",
       "\n",
       "    .dataframe thead th {\n",
       "        text-align: right;\n",
       "    }\n",
       "</style>\n",
       "<table border=\"1\" class=\"dataframe\">\n",
       "  <thead>\n",
       "    <tr style=\"text-align: right;\">\n",
       "      <th></th>\n",
       "      <th>login</th>\n",
       "      <th>url</th>\n",
       "      <th>id</th>\n",
       "      <th>followers</th>\n",
       "      <th>following</th>\n",
       "      <th>clusters</th>\n",
       "    </tr>\n",
       "  </thead>\n",
       "  <tbody>\n",
       "    <tr>\n",
       "      <th>0</th>\n",
       "      <td>0.272190</td>\n",
       "      <td>0.272190</td>\n",
       "      <td>3.602694</td>\n",
       "      <td>2.133326</td>\n",
       "      <td>-1.030618</td>\n",
       "      <td>3</td>\n",
       "    </tr>\n",
       "    <tr>\n",
       "      <th>1</th>\n",
       "      <td>0.991879</td>\n",
       "      <td>0.991879</td>\n",
       "      <td>-0.497342</td>\n",
       "      <td>-0.518285</td>\n",
       "      <td>-1.465789</td>\n",
       "      <td>0</td>\n",
       "    </tr>\n",
       "    <tr>\n",
       "      <th>2</th>\n",
       "      <td>0.871931</td>\n",
       "      <td>0.871931</td>\n",
       "      <td>1.079595</td>\n",
       "      <td>0.090282</td>\n",
       "      <td>-0.340897</td>\n",
       "      <td>0</td>\n",
       "    </tr>\n",
       "    <tr>\n",
       "      <th>3</th>\n",
       "      <td>-1.047240</td>\n",
       "      <td>-1.047240</td>\n",
       "      <td>-0.497342</td>\n",
       "      <td>-0.518285</td>\n",
       "      <td>0.913656</td>\n",
       "      <td>1</td>\n",
       "    </tr>\n",
       "    <tr>\n",
       "      <th>4</th>\n",
       "      <td>0.632035</td>\n",
       "      <td>0.632035</td>\n",
       "      <td>-0.468670</td>\n",
       "      <td>-0.474815</td>\n",
       "      <td>0.411389</td>\n",
       "      <td>0</td>\n",
       "    </tr>\n",
       "  </tbody>\n",
       "</table>\n",
       "</div>"
      ],
      "text/plain": [
       "      login       url        id  followers  following  clusters\n",
       "0  0.272190  0.272190  3.602694   2.133326  -1.030618         3\n",
       "1  0.991879  0.991879 -0.497342  -0.518285  -1.465789         0\n",
       "2  0.871931  0.871931  1.079595   0.090282  -0.340897         0\n",
       "3 -1.047240 -1.047240 -0.497342  -0.518285   0.913656         1\n",
       "4  0.632035  0.632035 -0.468670  -0.474815   0.411389         0"
      ]
     },
     "execution_count": 21,
     "metadata": {},
     "output_type": "execute_result"
    }
   ],
   "source": [
    "# Lets see the data to be exported\n",
    "df.head()"
   ]
  },
  {
   "cell_type": "code",
   "execution_count": 22,
   "metadata": {},
   "outputs": [],
   "source": [
    "# impor the library\n",
    "import sqlite3"
   ]
  },
  {
   "cell_type": "markdown",
   "metadata": {},
   "source": [
    "## Create the (techies_database) Database"
   ]
  },
  {
   "cell_type": "code",
   "execution_count": 23,
   "metadata": {},
   "outputs": [],
   "source": [
    "# create the database\n",
    "conn = sqlite3.connect('techies_database')\n",
    "c = conn.cursor()"
   ]
  },
  {
   "cell_type": "code",
   "execution_count": 24,
   "metadata": {},
   "outputs": [],
   "source": [
    "# we define the columns and their data types\n",
    "c.execute('CREATE TABLE IF NOT EXISTS techies (login number, url number, id number, followers number, following number, clusters number)')\n",
    "conn.commit()"
   ]
  },
  {
   "cell_type": "code",
   "execution_count": 25,
   "metadata": {},
   "outputs": [],
   "source": [
    "# We export the data\n",
    "df.to_sql('techies', conn, if_exists='replace', index = False)"
   ]
  },
  {
   "cell_type": "code",
   "execution_count": 26,
   "metadata": {
    "scrolled": true
   },
   "outputs": [
    {
     "data": {
      "text/plain": [
       "<sqlite3.Cursor at 0x2821f1ff8f0>"
      ]
     },
     "execution_count": 26,
     "metadata": {},
     "output_type": "execute_result"
    }
   ],
   "source": [
    "# We then excute\n",
    "c.execute('''  \n",
    "SELECT * FROM techies\n",
    "          ''')"
   ]
  },
  {
   "cell_type": "code",
   "execution_count": 27,
   "metadata": {
    "scrolled": false
   },
   "outputs": [
    {
     "name": "stdout",
     "output_type": "stream",
     "text": [
      "(0.2721901444321165, 0.2721901444321165, 3.602694094225888, 2.133325926037297, -1.0306179526393688, 3)\n",
      "(0.9918793398797463, 0.9918793398797463, -0.4973416089672101, -0.5182845118115691, -1.4657888569959396, 0)\n",
      "(0.8719311406384747, 0.8719311406384747, 1.079595199953212, 0.09028181818653137, -0.340897255047087, 0)\n",
      "(-1.0472400472218715, -1.0472400472218715, -0.4973416089672101, -0.5182845118115691, 0.9136562216848625, 1)\n",
      "(0.6320347421559314, 0.6320347421559314, -0.46867003062320245, -0.4748154882402762, 0.411388746819428, 0)\n",
      "(-0.6873954494980565, -0.6873954494980565, -0.4973416089672101, -0.4748154882402762, -0.9410788549365665, 1)\n",
      "(0.751982941397203, 0.751982941397203, -0.4973416089672101, -0.5182845118115691, 1.702050764740803, 0)\n",
      "(-0.5674472502567849, -0.5674472502567849, 0.3628057413530202, -0.3009393939551046, -0.18999820609343424, 1)\n",
      "(1.2317757383622896, 1.2317757383622896, -0.4113268739351871, -0.04012525252734729, -1.5998477281803989, 0)\n",
      "(0.03229374594957323, 0.03229374594957323, -0.46867003062320245, -0.4748154882402762, 0.2954212660574639, 0)\n",
      "(0.3921383436733881, 0.3921383436733881, -0.4973416089672101, -0.5182845118115691, 1.3379317655784748, 0)\n",
      "(-1.4070846449456864, -1.4070846449456864, -0.325312138903164, -0.2574703703838117, -1.4100758690373105, 1)\n",
      "(0.15224194519084486, 0.15224194519084486, -0.4973416089672101, -0.4748154882402762, 1.651872543594407, 0)\n",
      "(-0.20760265253297003, -0.20760265253297003, -0.2966405605591564, -0.3878774410976904, 0.2390007239615057, 0)\n",
      "(-1.2871364457044148, -1.2871364457044148, 0.6208499464490893, 0.8727242424698034, -0.6956441887032406, 1)\n",
      "(1.471672136844833, 1.471672136844833, 2.7425467439056574, 4.13290101031677, -0.6830647520682483, 2)\n",
      "(-1.1671882464631431, -1.1671882464631431, -0.3826552955911794, -0.21400134681251884, 0.06515414686373922, 1)\n",
      "(-0.9272918479805998, -0.9272918479805998, -0.46867003062320245, -0.4748154882402762, 0.9693469416398299, 1)\n",
      "(1.3517239376035612, 1.3517239376035612, -0.2966405605591564, -0.3009393939551046, 0.1670153923270574, 0)\n",
      "(-0.0876544532916984, -0.0876544532916984, -0.46867003062320245, -0.4313464646689833, -1.5074337222006517, 0)\n",
      "(-1.527032844186958, -1.527032844186958, -0.009924777119079596, 0.2641579124717029, 1.677516758126019, 1)\n",
      "(1.111827539121018, 1.111827539121018, -0.4113268739351871, -0.2574703703838117, 0.42824897357793246, 0)\n",
      "(-0.8073436487393282, -0.8073436487393282, -0.4973416089672101, -0.5182845118115691, 0.9546550422728496, 1)\n",
      "(-1.6469810434282297, -1.6469810434282297, 0.01874680122492808, 0.3510959596142887, -0.5787904258235086, 1)\n",
      "(0.5120865429146597, 0.5120865429146597, -0.46867003062320245, -0.3444084175263975, 0.07236940828098379, 0)\n",
      "(1.5916203360861045, 1.5916203360861045, -0.46867003062320245, -0.3444084175263975, -0.4423908837996048, 0)\n"
     ]
    }
   ],
   "source": [
    "# We confirm the process by fetching the exported data\n",
    "for row in c.fetchall():\n",
    "    print (row)"
   ]
  },
  {
   "cell_type": "markdown",
   "metadata": {},
   "source": [
    "# Conclusion\n",
    "We have therefore successfully \n",
    "* fetched the required data using the request method\n",
    "* performed clustering analysis on the data\n",
    "* written the data into a defined database"
   ]
  },
  {
   "cell_type": "markdown",
   "metadata": {},
   "source": [
    "# Reference links\n",
    "\n",
    "* https://www.techgeekbuzz.com/how-to-use-github-api-in-python/\n",
    "* https://www.thepythoncode.com/article/using-github-api-in-python\n",
    "* https://stackoverflow.com/questions/17128654/to-get-all-github-users-details\n",
    "* https://datatofish.com/pandas-dataframe-to-sql/\n",
    "* https://docs.microsoft.com/en-us/sql/samples/adventureworks-install-configure?view=sql-server-ver15&tabs=ssms\n",
    "* https://pynative.com/python-mysql-insert-data-into-database-table/\n",
    "* https://towardsdatascience.com/unsupervised-machine-learning-clustering-analysis-d40f2b34ae7e\n",
    "* https://www.essentialsql.com/sqlite3-review-great-for-beginners-and-those-learning-sql/\n",
    "* https://medium.com/pythoneers/fully-explained-mean-shift-clustering-with-python-51aef7a17c5d\n",
    "* https://scikit-learn.org/stable/modules/generated/sklearn.cluster.MeanShift.html"
   ]
  },
  {
   "cell_type": "markdown",
   "metadata": {},
   "source": [
    "# The End, Thanks !"
   ]
  }
 ],
 "metadata": {
  "kernelspec": {
   "display_name": "Python 3",
   "language": "python",
   "name": "python3"
  },
  "language_info": {
   "codemirror_mode": {
    "name": "ipython",
    "version": 3
   },
   "file_extension": ".py",
   "mimetype": "text/x-python",
   "name": "python",
   "nbconvert_exporter": "python",
   "pygments_lexer": "ipython3",
   "version": "3.7.6"
  }
 },
 "nbformat": 4,
 "nbformat_minor": 4
}
